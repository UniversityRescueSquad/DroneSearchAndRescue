{
 "cells": [
  {
   "cell_type": "code",
   "execution_count": 1,
   "id": "3ebebe4c",
   "metadata": {},
   "outputs": [],
   "source": [
    "%load_ext autoreload\n",
    "%autoreload 2"
   ]
  },
  {
   "cell_type": "code",
   "execution_count": 2,
   "id": "ace8d51d",
   "metadata": {},
   "outputs": [],
   "source": [
    "import sys\n",
    "sys.path.append('..')"
   ]
  },
  {
   "cell_type": "code",
   "execution_count": 3,
   "id": "8a6e2ad7",
   "metadata": {},
   "outputs": [],
   "source": [
    "import drone_sar"
   ]
  },
  {
   "cell_type": "code",
   "execution_count": 42,
   "id": "9f78ccd3",
   "metadata": {},
   "outputs": [],
   "source": [
    "from drone_sar.ipsar_dataset import IPSARDataset\n",
    "import matplotlib.pyplot as plt\n",
    "from tqdm.auto import tqdm"
   ]
  },
  {
   "cell_type": "code",
   "execution_count": 5,
   "id": "772e831b",
   "metadata": {},
   "outputs": [],
   "source": [
    "DS_ROOT = \"/Users/iz/Downloads/heridal/\""
   ]
  },
  {
   "cell_type": "code",
   "execution_count": 6,
   "id": "f5056497",
   "metadata": {},
   "outputs": [],
   "source": [
    "# !ls {DS_ROOT}"
   ]
  },
  {
   "cell_type": "code",
   "execution_count": 23,
   "id": "33045e64",
   "metadata": {},
   "outputs": [],
   "source": [
    "train_data = IPSARDataset(\"/Users/iz/Downloads/heridal/trainImages\")\n",
    "test_data = IPSARDataset(\"/Users/iz/Downloads/heridal/testImages\")"
   ]
  },
  {
   "cell_type": "code",
   "execution_count": 24,
   "id": "c8ad4eea",
   "metadata": {},
   "outputs": [],
   "source": [
    "item = test_data[0]"
   ]
  },
  {
   "cell_type": "code",
   "execution_count": 25,
   "id": "43cee0de",
   "metadata": {},
   "outputs": [
    {
     "data": {
      "text/plain": [
       "dict_keys(['img_path', 'pil', 'pixel_values', 'boxes', 'class_labels'])"
      ]
     },
     "execution_count": 25,
     "metadata": {},
     "output_type": "execute_result"
    }
   ],
   "source": [
    "item.keys()"
   ]
  },
  {
   "cell_type": "code",
   "execution_count": 26,
   "id": "33822960",
   "metadata": {},
   "outputs": [
    {
     "data": {
      "text/plain": [
       "torch.Size([3000, 4000, 3])"
      ]
     },
     "execution_count": 26,
     "metadata": {},
     "output_type": "execute_result"
    }
   ],
   "source": [
    "item['pixel_values'].shape"
   ]
  },
  {
   "cell_type": "code",
   "execution_count": 27,
   "id": "dbfec9d2",
   "metadata": {},
   "outputs": [
    {
     "data": {
      "text/plain": [
       "torch.Size([2, 4])"
      ]
     },
     "execution_count": 27,
     "metadata": {},
     "output_type": "execute_result"
    }
   ],
   "source": [
    "item[\"boxes\"].shape"
   ]
  },
  {
   "cell_type": "code",
   "execution_count": 28,
   "id": "5739a8eb",
   "metadata": {},
   "outputs": [
    {
     "data": {
      "text/plain": [
       "torch.Size([2])"
      ]
     },
     "execution_count": 28,
     "metadata": {},
     "output_type": "execute_result"
    }
   ],
   "source": [
    "item[\"class_labels\"].shape"
   ]
  },
  {
   "cell_type": "code",
   "execution_count": 29,
   "id": "e6105e7a",
   "metadata": {},
   "outputs": [],
   "source": [
    "# data[0]"
   ]
  },
  {
   "cell_type": "code",
   "execution_count": 30,
   "id": "2c276613",
   "metadata": {},
   "outputs": [],
   "source": [
    "from transformers import DetrImageProcessor, DetrForObjectDetection\n",
    "import torch\n",
    "from PIL import Image\n",
    "import requests"
   ]
  },
  {
   "cell_type": "code",
   "execution_count": 21,
   "id": "c5d137d3",
   "metadata": {},
   "outputs": [
    {
     "data": {
      "application/vnd.jupyter.widget-view+json": {
       "model_id": "1a9afcc7d8cd4c638eca834d8a61d05f",
       "version_major": 2,
       "version_minor": 0
      },
      "text/plain": [
       "Downloading pytorch_model.bin:   0%|          | 0.00/167M [00:00<?, ?B/s]"
      ]
     },
     "metadata": {},
     "output_type": "display_data"
    },
    {
     "name": "stderr",
     "output_type": "stream",
     "text": [
      "Downloading: \"https://github.com/rwightman/pytorch-image-models/releases/download/v0.1-rsb-weights/resnet50_a1_0-14fe96d1.pth\" to /Users/iz/.cache/torch/hub/checkpoints/resnet50_a1_0-14fe96d1.pth\n"
     ]
    }
   ],
   "source": [
    "processor = DetrImageProcessor.from_pretrained(\"facebook/detr-resnet-50\")\n",
    "model = DetrForObjectDetection.from_pretrained(\"facebook/detr-resnet-50\")"
   ]
  },
  {
   "cell_type": "code",
   "execution_count": 36,
   "id": "527e5d8c",
   "metadata": {},
   "outputs": [],
   "source": [
    "# item['pil']"
   ]
  },
  {
   "cell_type": "code",
   "execution_count": 41,
   "id": "c4ba32a8",
   "metadata": {},
   "outputs": [],
   "source": [
    "url = \"http://images.cocodataset.org/val2017/000000039769.jpg\"\n",
    "image = item['pil']\n",
    "\n",
    "inputs = processor(images=image, return_tensors=\"pt\")\n",
    "outputs = model(**inputs)"
   ]
  },
  {
   "cell_type": "code",
   "execution_count": 33,
   "id": "73108604",
   "metadata": {},
   "outputs": [],
   "source": [
    "target_sizes = torch.tensor([image.size[::-1]])\n",
    "results = processor.post_process_object_detection(outputs, target_sizes=target_sizes, threshold=0.5)[0]"
   ]
  },
  {
   "cell_type": "code",
   "execution_count": null,
   "id": "ce2ccbc0",
   "metadata": {},
   "outputs": [
    {
     "data": {
      "application/vnd.jupyter.widget-view+json": {
       "model_id": "4b466b40ee6b466a9f75575bbfd440e4",
       "version_major": 2,
       "version_minor": 0
      },
      "text/plain": [
       "  0%|          | 0/1684 [00:00<?, ?it/s]"
      ]
     },
     "metadata": {},
     "output_type": "display_data"
    }
   ],
   "source": [
    "results = []\n",
    "for item in tqdm(train_data + test_data):\n",
    "    inputs = processor(images=image, return_tensors=\"pt\")\n",
    "    outputs = model(**inputs)\n",
    "    target_sizes = torch.tensor([image.size[::-1]])\n",
    "    res = processor.post_process_object_detection(\n",
    "        outputs, target_sizes=target_sizes, threshold=0.5\n",
    "    )[0]\n",
    "    results.append(res)"
   ]
  },
  {
   "cell_type": "code",
   "execution_count": null,
   "id": "f63cd661",
   "metadata": {},
   "outputs": [],
   "source": []
  },
  {
   "cell_type": "code",
   "execution_count": null,
   "id": "044a224c",
   "metadata": {},
   "outputs": [],
   "source": []
  }
 ],
 "metadata": {
  "kernelspec": {
   "display_name": "Python 3 (ipykernel)",
   "language": "python",
   "name": "python3"
  },
  "language_info": {
   "codemirror_mode": {
    "name": "ipython",
    "version": 3
   },
   "file_extension": ".py",
   "mimetype": "text/x-python",
   "name": "python",
   "nbconvert_exporter": "python",
   "pygments_lexer": "ipython3",
   "version": "3.9.17"
  }
 },
 "nbformat": 4,
 "nbformat_minor": 5
}
