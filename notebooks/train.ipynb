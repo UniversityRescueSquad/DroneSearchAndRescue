{
 "cells": [
  {
   "cell_type": "code",
   "execution_count": 3,
   "id": "3ebebe4c",
   "metadata": {},
   "outputs": [],
   "source": [
    "%load_ext autoreload\n",
    "%autoreload 2"
   ]
  },
  {
   "cell_type": "code",
   "execution_count": 4,
   "id": "ace8d51d",
   "metadata": {},
   "outputs": [],
   "source": [
    "import sys\n",
    "sys.path.append('..')"
   ]
  },
  {
   "cell_type": "code",
   "execution_count": 5,
   "id": "baaf54b1-f509-4c09-a501-24faaae7efca",
   "metadata": {},
   "outputs": [],
   "source": [
    "# !wget http://ipsar.fesb.unist.hr/ipsar_data/heridal.zip\n",
    "# !unzip ./heridal.zip"
   ]
  },
  {
   "cell_type": "code",
   "execution_count": 6,
   "id": "e0fde8bd-7bdd-46c5-8b09-77103642cd89",
   "metadata": {},
   "outputs": [
    {
     "name": "stdout",
     "output_type": "stream",
     "text": [
      "patches  testImages  trainImages\n"
     ]
    }
   ],
   "source": [
    "!ls ../heridal"
   ]
  },
  {
   "cell_type": "code",
   "execution_count": 7,
   "id": "9f78ccd3",
   "metadata": {},
   "outputs": [],
   "source": [
    "import drone_sar\n",
    "from drone_sar.ipsar_dataset import IPSARDataset\n",
    "import matplotlib.pyplot as plt\n",
    "from tqdm.auto import tqdm\n",
    "from collections import Counter"
   ]
  },
  {
   "cell_type": "code",
   "execution_count": 8,
   "id": "33045e64",
   "metadata": {},
   "outputs": [],
   "source": [
    "train_data = IPSARDataset(\"../heridal/trainImages/\")\n",
    "test_data = IPSARDataset(\"../heridal/testImages\")\n",
    "item = test_data[0]"
   ]
  },
  {
   "cell_type": "code",
   "execution_count": 9,
   "id": "64d8cf9c-8505-410d-9cf3-c9bd0497a5f0",
   "metadata": {},
   "outputs": [
    {
     "data": {
      "text/plain": [
       "1583"
      ]
     },
     "execution_count": 9,
     "metadata": {},
     "output_type": "execute_result"
    }
   ],
   "source": [
    "len(train_data)"
   ]
  },
  {
   "cell_type": "code",
   "execution_count": null,
   "id": "2f5b6355-e9d4-4a7e-a01b-4f543cb5ed19",
   "metadata": {},
   "outputs": [],
   "source": [
    "# Counter([len(el[\"boxes\"]) for el in train_data])"
   ]
  },
  {
   "cell_type": "code",
   "execution_count": 101,
   "id": "43cee0de",
   "metadata": {},
   "outputs": [
    {
     "data": {
      "text/plain": [
       "dict_keys(['img_path', 'pil', 'target_sizes', 'boxes', 'class_labels'])"
      ]
     },
     "execution_count": 101,
     "metadata": {},
     "output_type": "execute_result"
    }
   ],
   "source": [
    "item.keys()"
   ]
  },
  {
   "cell_type": "code",
   "execution_count": 11,
   "id": "33822960",
   "metadata": {},
   "outputs": [
    {
     "data": {
      "text/plain": [
       "(torch.Size([2, 4]), torch.Size([2]))"
      ]
     },
     "execution_count": 11,
     "metadata": {},
     "output_type": "execute_result"
    }
   ],
   "source": [
    "item[\"boxes\"].shape, item[\"class_labels\"].shape"
   ]
  },
  {
   "cell_type": "code",
   "execution_count": 12,
   "id": "b54065e3-58a5-41c9-8b5d-aa95d21a7e7d",
   "metadata": {},
   "outputs": [],
   "source": [
    "# IPSARDataset.plt_show(item, size=10)"
   ]
  },
  {
   "cell_type": "code",
   "execution_count": 13,
   "id": "2c276613",
   "metadata": {},
   "outputs": [],
   "source": [
    "from transformers import DetrImageProcessor, DetrForObjectDetection\n",
    "import torch\n",
    "from PIL import Image\n",
    "import requests"
   ]
  },
  {
   "cell_type": "code",
   "execution_count": 14,
   "id": "c5d137d3",
   "metadata": {},
   "outputs": [
    {
     "name": "stderr",
     "output_type": "stream",
     "text": [
      "/home/iz/.cache/pypoetry/virtualenvs/drone-sar-xLdq85T6-py3.10/lib/python3.10/site-packages/transformers/models/detr/image_processing_detr.py:776: FutureWarning: The `max_size` parameter is deprecated and will be removed in v4.26. Please specify in `size['longest_edge'] instead`.\n",
      "  warnings.warn(\n",
      "Some weights of DetrForObjectDetection were not initialized from the model checkpoint at facebook/detr-resnet-50 and are newly initialized because the shapes did not match:\n",
      "- class_labels_classifier.weight: found shape torch.Size([92, 256]) in the checkpoint and torch.Size([2, 256]) in the model instantiated\n",
      "- class_labels_classifier.bias: found shape torch.Size([92]) in the checkpoint and torch.Size([2]) in the model instantiated\n",
      "You should probably TRAIN this model on a down-stream task to be able to use it for predictions and inference.\n"
     ]
    }
   ],
   "source": [
    "processor = DetrImageProcessor.from_pretrained(\"facebook/detr-resnet-50\")\n",
    "model = DetrForObjectDetection.from_pretrained(\n",
    "    \"facebook/detr-resnet-50\",\n",
    "    num_labels=1,\n",
    "    ignore_mismatched_sizes=True,\n",
    ")"
   ]
  },
  {
   "cell_type": "code",
   "execution_count": 27,
   "id": "91ed6cf1-c7c3-451f-bb35-950acb7805f8",
   "metadata": {},
   "outputs": [],
   "source": [
    "train_dl = train_data.get_dataloader(processor, bs=10, shuffle=True)\n",
    "test_dl = test_data.get_dataloader(processor, bs=10, shuffle=False)"
   ]
  },
  {
   "cell_type": "code",
   "execution_count": 28,
   "id": "b69e852a-f35a-48e5-94be-922b8c8fa3b0",
   "metadata": {},
   "outputs": [],
   "source": [
    "batch, info = next(iter(train_dl))"
   ]
  },
  {
   "cell_type": "code",
   "execution_count": 30,
   "id": "c4ba32a8",
   "metadata": {},
   "outputs": [],
   "source": [
    "# outputs = model(**batch)"
   ]
  },
  {
   "cell_type": "code",
   "execution_count": 35,
   "id": "96a744ea-ebe3-4867-953f-8f4108583087",
   "metadata": {},
   "outputs": [],
   "source": [
    "# outputs[\"loss_dict\"], outputs[\"loss\"]"
   ]
  },
  {
   "cell_type": "code",
   "execution_count": 36,
   "id": "73108604",
   "metadata": {},
   "outputs": [],
   "source": [
    "# results = processor.post_process_object_detection(outputs, target_sizes=info[\"target_sizes\"], threshold=0.5)"
   ]
  },
  {
   "cell_type": "code",
   "execution_count": 37,
   "id": "a8663760-9b59-4d8a-94cc-f78682800e37",
   "metadata": {},
   "outputs": [],
   "source": [
    "import lightning as L\n",
    "from lightning.pytorch import loggers as pl_loggers\n",
    "\n",
    "\n",
    "class LightningDetector(L.LightningModule):\n",
    "    def __init__(self, model):\n",
    "        super().__init__()\n",
    "        self.model = model\n",
    "\n",
    "    def configure_optimizers(self):\n",
    "        return torch.optim.Adam(self.parameters(), lr=0.001)\n",
    "\n",
    "    def training_step(self, input, batch_id):\n",
    "        batch, info = input\n",
    "        num_boxes = sum([len(l[\"boxes\"]) for l in batch[\"labels\"]])\n",
    "        if num_boxes == 0:\n",
    "            return None # Skip the optim step if no boxes present (we get an error otherwise)\n",
    "\n",
    "        output = self.model(**batch)\n",
    "        self.log(\"loss\", output[\"loss\"])\n",
    "        self.log_dict(output[\"loss_dict\"])\n",
    "\n",
    "        return output[\"loss\"]"
   ]
  },
  {
   "cell_type": "code",
   "execution_count": 38,
   "id": "e7ca1029-51ad-4333-91cf-ee469480e531",
   "metadata": {},
   "outputs": [],
   "source": [
    "lightnin_detector = LightningDetector(model)"
   ]
  },
  {
   "cell_type": "code",
   "execution_count": 39,
   "id": "bc1598f4-7557-47e9-b75c-9c2bcd4e3228",
   "metadata": {},
   "outputs": [
    {
     "name": "stderr",
     "output_type": "stream",
     "text": [
      "GPU available: True (cuda), used: True\n",
      "TPU available: False, using: 0 TPU cores\n",
      "IPU available: False, using: 0 IPUs\n",
      "HPU available: False, using: 0 HPUs\n"
     ]
    }
   ],
   "source": [
    "tb_logger = pl_loggers.TensorBoardLogger(save_dir=\"logs/\")\n",
    "trainer = L.Trainer(logger=tb_logger, max_epochs=10)"
   ]
  },
  {
   "cell_type": "code",
   "execution_count": null,
   "id": "43ff1d29-38d1-42fc-b466-3408f1e3213d",
   "metadata": {},
   "outputs": [
    {
     "name": "stderr",
     "output_type": "stream",
     "text": [
      "LOCAL_RANK: 0 - CUDA_VISIBLE_DEVICES: [0]\n",
      "\n",
      "  | Name  | Type                   | Params\n",
      "-------------------------------------------------\n",
      "0 | model | DetrForObjectDetection | 41.5 M\n",
      "-------------------------------------------------\n",
      "41.3 M    Trainable params\n",
      "222 K     Non-trainable params\n",
      "41.5 M    Total params\n",
      "166.037   Total estimated model params size (MB)\n"
     ]
    },
    {
     "data": {
      "application/vnd.jupyter.widget-view+json": {
       "model_id": "cc64c9ce58ab497dafa782df53050a62",
       "version_major": 2,
       "version_minor": 0
      },
      "text/plain": [
       "Training: |                                                        | 0/? [00:00<?, ?it/s]"
      ]
     },
     "metadata": {},
     "output_type": "display_data"
    }
   ],
   "source": [
    "trainer.fit(lightnin_detector, train_dataloaders=train_dl)"
   ]
  },
  {
   "cell_type": "code",
   "execution_count": null,
   "id": "044a224c",
   "metadata": {},
   "outputs": [],
   "source": []
  },
  {
   "cell_type": "code",
   "execution_count": null,
   "id": "82b7ea6a-13a3-4c44-8f0d-9bab93daf3a3",
   "metadata": {},
   "outputs": [],
   "source": []
  },
  {
   "cell_type": "code",
   "execution_count": null,
   "id": "32749b1d-8664-4fdd-bc61-ef6f6feecdca",
   "metadata": {},
   "outputs": [],
   "source": []
  },
  {
   "cell_type": "code",
   "execution_count": null,
   "id": "a775cb58-7bb6-44fa-bc21-c62da3985a20",
   "metadata": {},
   "outputs": [],
   "source": []
  },
  {
   "cell_type": "code",
   "execution_count": null,
   "id": "f04730e6-3b16-4e7e-b159-8755fce3973a",
   "metadata": {},
   "outputs": [],
   "source": []
  },
  {
   "cell_type": "code",
   "execution_count": null,
   "id": "e5ef174b-5926-4791-ac22-de2a773e2514",
   "metadata": {},
   "outputs": [],
   "source": []
  }
 ],
 "metadata": {
  "kernelspec": {
   "display_name": "Python 3 (ipykernel)",
   "language": "python",
   "name": "python3"
  },
  "language_info": {
   "codemirror_mode": {
    "name": "ipython",
    "version": 3
   },
   "file_extension": ".py",
   "mimetype": "text/x-python",
   "name": "python",
   "nbconvert_exporter": "python",
   "pygments_lexer": "ipython3",
   "version": "3.10.12"
  }
 },
 "nbformat": 4,
 "nbformat_minor": 5
}
