{
 "cells": [
  {
   "cell_type": "code",
   "execution_count": 1,
   "id": "3c8340a5-1c74-4548-b1ff-64b71c6b1d64",
   "metadata": {},
   "outputs": [],
   "source": [
    "%load_ext autoreload\n",
    "%autoreload 2\n",
    "\n",
    "import sys\n",
    "sys.path.append('..')"
   ]
  },
  {
   "cell_type": "code",
   "execution_count": 2,
   "id": "ef9f425c-264c-4611-8dfd-20d4571ec523",
   "metadata": {},
   "outputs": [],
   "source": [
    "from drone_sar.ipsar_dataset import IPSARDataset\n",
    "from drone_sar.lightning_detector import get_lightning_trainer, LightningDetector\n",
    "from collections import Counter\n",
    "from drone_sar.vis import show_detections"
   ]
  },
  {
   "cell_type": "code",
   "execution_count": 3,
   "id": "9aabd330-a26b-4ad6-9630-b29d05dd8c63",
   "metadata": {},
   "outputs": [],
   "source": [
    "train_data = IPSARDataset(\"../heridal/trainImages/\")\n",
    "test_data = IPSARDataset(\"../heridal/testImages\")\n",
    "item = test_data[0]"
   ]
  },
  {
   "cell_type": "code",
   "execution_count": 4,
   "id": "7e70445b-8da1-4311-a4fb-e2b8438f9c81",
   "metadata": {},
   "outputs": [
    {
     "name": "stderr",
     "output_type": "stream",
     "text": [
      "GPU available: True (cuda), used: True\n",
      "TPU available: False, using: 0 TPU cores\n",
      "IPU available: False, using: 0 IPUs\n",
      "HPU available: False, using: 0 HPUs\n"
     ]
    }
   ],
   "source": [
    "trainer = get_lightning_trainer(\"IPSAR-DETR-FIXED\", max_epochs=1000)"
   ]
  },
  {
   "cell_type": "code",
   "execution_count": 5,
   "id": "0e742cb1-17a0-4b71-9d13-6c549f1aa6c0",
   "metadata": {},
   "outputs": [],
   "source": [
    "# best_model_path = \"/home/iz/workspace/DroneSearchAndRescue/notebooks/.checkpoints/epoch=88-step=14151.ckpt\"\n",
    "best_model_path = \"/home/iz/workspace/DroneSearchAndRescue/notebooks/.checkpoints/epoch=65-step=10494.ckpt\""
   ]
  },
  {
   "cell_type": "code",
   "execution_count": 6,
   "id": "bd783aa4-15ad-4a7f-9412-f899194d12ea",
   "metadata": {},
   "outputs": [
    {
     "data": {
      "application/vnd.jupyter.widget-view+json": {
       "model_id": "ef1c5bb1b223479d95ef9edf323bd41c",
       "version_major": 2,
       "version_minor": 0
      },
      "text/plain": [
       "Downloading (…)cessor_config.json\";:   0%|          | 0.00/290 [00:00<?, ?B/s]"
      ]
     },
     "metadata": {},
     "output_type": "display_data"
    },
    {
     "name": "stderr",
     "output_type": "stream",
     "text": [
      "Some weights of DetrForObjectDetection were not initialized from the model checkpoint at facebook/detr-resnet-50 and are newly initialized because the shapes did not match:\n",
      "- class_labels_classifier.weight: found shape torch.Size([92, 256]) in the checkpoint and torch.Size([2, 256]) in the model instantiated\n",
      "- class_labels_classifier.bias: found shape torch.Size([92]) in the checkpoint and torch.Size([2]) in the model instantiated\n",
      "You should probably TRAIN this model on a down-stream task to be able to use it for predictions and inference.\n"
     ]
    }
   ],
   "source": [
    "best_model = LightningDetector.load_from_checkpoint(best_model_path, lr=0.01)"
   ]
  },
  {
   "cell_type": "code",
   "execution_count": 7,
   "id": "7c38ac11-a7a8-4acd-be56-08e26fbf9cd1",
   "metadata": {},
   "outputs": [],
   "source": [
    "test_dl_b1 = test_data.get_dataloader(best_model.processor, bs=1, shuffle=False)\n",
    "train_dl_b1 = train_data.get_dataloader(best_model.processor, bs=1, shuffle=False)"
   ]
  },
  {
   "cell_type": "code",
   "execution_count": 8,
   "id": "e905dc1d-1b54-4abd-9f4f-102ba007e068",
   "metadata": {},
   "outputs": [
    {
     "name": "stderr",
     "output_type": "stream",
     "text": [
      "You are using a CUDA device ('NVIDIA GeForce RTX 3090') that has Tensor Cores. To properly utilize them, you should set `torch.set_float32_matmul_precision('medium' | 'high')` which will trade-off precision for performance. For more details, read https://pytorch.org/docs/stable/generated/torch.set_float32_matmul_precision.html#torch.set_float32_matmul_precision\n",
      "LOCAL_RANK: 0 - CUDA_VISIBLE_DEVICES: [0]\n",
      "/home/iz/.cache/pypoetry/virtualenvs/drone-sar-xLdq85T6-py3.10/lib/python3.10/site-packages/lightning/pytorch/trainer/connectors/data_connector.py:441: The 'predict_dataloader' does not have many workers which may be a bottleneck. Consider increasing the value of the `num_workers` argument` to `num_workers=31` in the `DataLoader` to improve performance.\n"
     ]
    },
    {
     "data": {
      "application/vnd.jupyter.widget-view+json": {
       "model_id": "e9cba1be8b594d02bc991ed79e9dfae2",
       "version_major": 2,
       "version_minor": 0
      },
      "text/plain": [
       "Predicting: |                                                      | 0/? [00:00<?, ?it/s]"
      ]
     },
     "metadata": {},
     "output_type": "display_data"
    }
   ],
   "source": [
    "best_val_outputs = trainer.predict(best_model, test_dl_b1)"
   ]
  },
  {
   "cell_type": "code",
   "execution_count": 11,
   "id": "69a34992-db96-47a9-a4d5-09b574ff5e91",
   "metadata": {},
   "outputs": [
    {
     "name": "stderr",
     "output_type": "stream",
     "text": [
      "LOCAL_RANK: 0 - CUDA_VISIBLE_DEVICES: [0]\n"
     ]
    },
    {
     "data": {
      "application/vnd.jupyter.widget-view+json": {
       "model_id": "c14ce8992fa24d16b485206790344956",
       "version_major": 2,
       "version_minor": 0
      },
      "text/plain": [
       "Predicting: |                                                      | 0/? [00:00<?, ?it/s]"
      ]
     },
     "metadata": {},
     "output_type": "display_data"
    }
   ],
   "source": [
    "best_train_outputs = trainer.predict(best_model, train_dl_b1)"
   ]
  },
  {
   "cell_type": "code",
   "execution_count": 12,
   "id": "216cd330-34e6-440a-b38c-3bf4c7e11d54",
   "metadata": {},
   "outputs": [
    {
     "data": {
      "text/plain": [
       "odict_keys(['loss', 'loss_dict', 'logits', 'pred_boxes', 'last_hidden_state', 'encoder_last_hidden_state'])"
      ]
     },
     "execution_count": 12,
     "metadata": {},
     "output_type": "execute_result"
    }
   ],
   "source": [
    "best_train_outputs[0].keys()"
   ]
  },
  {
   "cell_type": "code",
   "execution_count": 9,
   "id": "e6bc21ea-ded0-4126-9a73-1d69a9d9a91d",
   "metadata": {},
   "outputs": [],
   "source": [
    "pil = test_data[1][\"pil\"]"
   ]
  },
  {
   "cell_type": "code",
   "execution_count": 25,
   "id": "d9222dbd-8022-4e87-9d45-f7616518fa48",
   "metadata": {},
   "outputs": [],
   "source": [
    "# boxes = best_model.predict(pil)"
   ]
  },
  {
   "cell_type": "code",
   "execution_count": 26,
   "id": "02e344ca-ef27-47f4-8c82-1943739ff55b",
   "metadata": {},
   "outputs": [],
   "source": [
    "# plt_show(pil, colored_boxes_dict={\"red\": boxes})"
   ]
  },
  {
   "cell_type": "code",
   "execution_count": 11,
   "id": "ba1ad5cc-f948-455d-8617-ff8058fefffe",
   "metadata": {},
   "outputs": [],
   "source": [
    "import cv2\n",
    "from PIL import Image\n",
    "from tqdm.auto import tqdm\n",
    "import numpy as np"
   ]
  },
  {
   "cell_type": "code",
   "execution_count": 12,
   "id": "be6786d3-34c8-4010-8498-d21a1b23ccce",
   "metadata": {},
   "outputs": [
    {
     "data": {
      "text/plain": [
       "(8722, 30)"
      ]
     },
     "execution_count": 12,
     "metadata": {},
     "output_type": "execute_result"
    }
   ],
   "source": [
    "vid = cv2.VideoCapture(\"../DJI_0004.MP4\")\n",
    "\n",
    "fps = np.ceil(vid.get(cv2.CAP_PROP_FPS)).astype(int)\n",
    "num_frames = int(vid.get(cv2.CAP_PROP_FRAME_COUNT))\n",
    "num_frames, fps"
   ]
  },
  {
   "cell_type": "code",
   "execution_count": 14,
   "id": "2ea45929-23ed-44fc-bbeb-06f6e7a9c51a",
   "metadata": {},
   "outputs": [],
   "source": [
    "# best_model.predict(pil)"
   ]
  },
  {
   "cell_type": "code",
   "execution_count": 17,
   "id": "42a7a5f9-f518-4adf-97a4-cba9cdc6c1a4",
   "metadata": {},
   "outputs": [
    {
     "data": {
      "application/vnd.jupyter.widget-view+json": {
       "model_id": "69e6ee683364421eaae209e530e8e982",
       "version_major": 2,
       "version_minor": 0
      },
      "text/plain": [
       "  0%|          | 0/8722 [00:00<?, ?it/s]"
      ]
     },
     "metadata": {},
     "output_type": "display_data"
    }
   ],
   "source": [
    "pils = []\n",
    "preds = []\n",
    "\n",
    "for i in tqdm(range(num_frames)):\n",
    "    success, frame = vid.read()\n",
    "    if not success:\n",
    "        break\n",
    "    if i % 20 == 0:\n",
    "        frame = cv2.cvtColor(frame, cv2.COLOR_BGR2RGB)\n",
    "        pil = Image.fromarray(frame)\n",
    "        best_val_outputs = best_model.predict(pil)\n",
    "\n",
    "        pils.append(pil)\n",
    "        preds.append(best_val_outputs)"
   ]
  },
  {
   "cell_type": "code",
   "execution_count": 18,
   "id": "97ccee0f-e134-4734-a368-cb5612a8ec7c",
   "metadata": {},
   "outputs": [],
   "source": [
    "def draw_res(pil, pred):\n",
    "    im = np.array(pil)\n",
    "\n",
    "    for x0, y0, w, h in pred:\n",
    "        x1, y1 = x0 + w, y0 + h\n",
    "        x0, y0, x1, y1 = int(x0), int(y0), int(x1), int(y1)\n",
    "\n",
    "        im = cv2.rectangle(im, (x0, y0), (x1, y1), (255, 0, 0), 5)\n",
    "    im = Image.fromarray(im)\n",
    "    im.thumbnail((2000, 2000))\n",
    "\n",
    "    return im"
   ]
  },
  {
   "cell_type": "code",
   "execution_count": 19,
   "id": "8486a933-b11e-4582-bb68-16f50b25d474",
   "metadata": {},
   "outputs": [
    {
     "data": {
      "application/vnd.jupyter.widget-view+json": {
       "model_id": "41f30105f4714961a2afde71030b41bc",
       "version_major": 2,
       "version_minor": 0
      },
      "text/plain": [
       "  0%|          | 0/430 [00:00<?, ?it/s]"
      ]
     },
     "metadata": {},
     "output_type": "display_data"
    }
   ],
   "source": [
    "rendered_frames = []\n",
    "for pil, pred in tqdm(list(zip(pils, preds))):\n",
    "    rend = draw_res(pil, pred)\n",
    "    rendered_frames.append(rend)"
   ]
  },
  {
   "cell_type": "code",
   "execution_count": 20,
   "id": "3d2c09e8-63b7-4fc9-96e2-83f2e83c39a2",
   "metadata": {},
   "outputs": [
    {
     "data": {
      "text/plain": [
       "430"
      ]
     },
     "execution_count": 20,
     "metadata": {},
     "output_type": "execute_result"
    }
   ],
   "source": [
    "len(rendered_frames)"
   ]
  },
  {
   "cell_type": "code",
   "execution_count": 21,
   "id": "46f483ba-b778-4e7d-a8bb-1828e4a926c1",
   "metadata": {},
   "outputs": [
    {
     "data": {
      "text/plain": [
       "(2000, 1125)"
      ]
     },
     "execution_count": 21,
     "metadata": {},
     "output_type": "execute_result"
    }
   ],
   "source": [
    "rendered_frames[0].size"
   ]
  },
  {
   "cell_type": "code",
   "execution_count": 22,
   "id": "b7afaeb4-4955-4134-a401-7869e5f7755d",
   "metadata": {},
   "outputs": [],
   "source": [
    "# rendered_frames[0]"
   ]
  },
  {
   "cell_type": "markdown",
   "id": "43742633-d837-413f-8f36-88560af9b69e",
   "metadata": {},
   "source": []
  },
  {
   "cell_type": "code",
   "execution_count": 23,
   "id": "531b1020-46a5-47e1-8d17-486f93e14355",
   "metadata": {},
   "outputs": [],
   "source": [
    "width, height = rendered_frames[0].size\n",
    "result = cv2.VideoWriter(\n",
    "    \"red2.avi\",\n",
    "    cv2.VideoWriter_fourcc(*\"MJPG\"), \n",
    "    20,\n",
    "    (width, height),\n",
    ")"
   ]
  },
  {
   "cell_type": "code",
   "execution_count": 24,
   "id": "9ffa505f-bcbb-40a9-8e30-7ca883c31425",
   "metadata": {},
   "outputs": [
    {
     "data": {
      "application/vnd.jupyter.widget-view+json": {
       "model_id": "4bd889fd2e914a968b7b4aa533baebed",
       "version_major": 2,
       "version_minor": 0
      },
      "text/plain": [
       "  0%|          | 0/430 [00:00<?, ?it/s]"
      ]
     },
     "metadata": {},
     "output_type": "display_data"
    }
   ],
   "source": [
    "for image in tqdm(rendered_frames):\n",
    "    im = np.array(image)\n",
    "    im = cv2.cvtColor(im, cv2.COLOR_RGB2BGR)\n",
    "    result.write(im)\n",
    "\n",
    "result.release()"
   ]
  },
  {
   "cell_type": "code",
   "execution_count": 318,
   "id": "0217721f-1bfb-413a-bc55-ace72265ed46",
   "metadata": {},
   "outputs": [],
   "source": [
    "# from IPython.display import Video\n",
    "\n",
    "# Video(\"red.avi\")"
   ]
  },
  {
   "cell_type": "code",
   "execution_count": null,
   "id": "dab9db23-d195-401b-9340-56b844b5cdc3",
   "metadata": {},
   "outputs": [],
   "source": []
  },
  {
   "cell_type": "code",
   "execution_count": null,
   "id": "65406e25-6d73-4552-9ba7-20242f7f51fe",
   "metadata": {},
   "outputs": [],
   "source": []
  }
 ],
 "metadata": {
  "kernelspec": {
   "display_name": "Python 3 (ipykernel)",
   "language": "python",
   "name": "python3"
  },
  "language_info": {
   "codemirror_mode": {
    "name": "ipython",
    "version": 3
   },
   "file_extension": ".py",
   "mimetype": "text/x-python",
   "name": "python",
   "nbconvert_exporter": "python",
   "pygments_lexer": "ipython3",
   "version": "3.10.12"
  }
 },
 "nbformat": 4,
 "nbformat_minor": 5
}
