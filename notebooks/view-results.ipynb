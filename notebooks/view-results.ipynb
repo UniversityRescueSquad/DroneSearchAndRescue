{
 "cells": [
  {
   "cell_type": "code",
   "execution_count": 1,
   "id": "5ae81645-0db2-490b-afb4-3ac6eeae3e99",
   "metadata": {},
   "outputs": [],
   "source": [
    "%load_ext autoreload\n",
    "%autoreload 2"
   ]
  },
  {
   "cell_type": "code",
   "execution_count": 2,
   "id": "3c8340a5-1c74-4548-b1ff-64b71c6b1d64",
   "metadata": {},
   "outputs": [],
   "source": [
    "import sys\n",
    "sys.path.append('..')"
   ]
  },
  {
   "cell_type": "code",
   "execution_count": 3,
   "id": "eadacc95-f246-49b6-932f-0d36d1b398ca",
   "metadata": {},
   "outputs": [],
   "source": [
    "from drone_sar.ipsar_dataset import IPSARDataset\n",
    "from drone_sar.lightning_detector import get_lightning_trainer, LightningDetector\n",
    "from collections import Counter"
   ]
  },
  {
   "cell_type": "code",
   "execution_count": 4,
   "id": "9aabd330-a26b-4ad6-9630-b29d05dd8c63",
   "metadata": {},
   "outputs": [],
   "source": [
    "train_data = IPSARDataset(\"../heridal/trainImages/\")\n",
    "test_data = IPSARDataset(\"../heridal/testImages\")\n",
    "item = test_data[0]"
   ]
  },
  {
   "cell_type": "code",
   "execution_count": 5,
   "id": "7e70445b-8da1-4311-a4fb-e2b8438f9c81",
   "metadata": {},
   "outputs": [
    {
     "name": "stderr",
     "output_type": "stream",
     "text": [
      "GPU available: True (cuda), used: True\n",
      "TPU available: False, using: 0 TPU cores\n",
      "IPU available: False, using: 0 IPUs\n",
      "HPU available: False, using: 0 HPUs\n"
     ]
    }
   ],
   "source": [
    "trainer = get_lightning_trainer(\"IPSAR-DETR-FIXED\", max_epochs=1000)"
   ]
  },
  {
   "cell_type": "code",
   "execution_count": 123,
   "id": "0e742cb1-17a0-4b71-9d13-6c549f1aa6c0",
   "metadata": {},
   "outputs": [],
   "source": [
    "# best_model_path = \"/home/iz/workspace/DroneSearchAndRescue/notebooks/.checkpoints/epoch=88-step=14151.ckpt\"\n",
    "best_model_path = \"/home/iz/workspace/DroneSearchAndRescue/notebooks/.checkpoints/epoch=65-step=10494.ckpt\""
   ]
  },
  {
   "cell_type": "code",
   "execution_count": 124,
   "id": "bd783aa4-15ad-4a7f-9412-f899194d12ea",
   "metadata": {},
   "outputs": [
    {
     "name": "stderr",
     "output_type": "stream",
     "text": [
      "/home/iz/.cache/pypoetry/virtualenvs/drone-sar-xLdq85T6-py3.10/lib/python3.10/site-packages/transformers/models/detr/image_processing_detr.py:776: FutureWarning: The `max_size` parameter is deprecated and will be removed in v4.26. Please specify in `size['longest_edge'] instead`.\n",
      "  warnings.warn(\n",
      "Some weights of DetrForObjectDetection were not initialized from the model checkpoint at facebook/detr-resnet-50 and are newly initialized because the shapes did not match:\n",
      "- class_labels_classifier.weight: found shape torch.Size([92, 256]) in the checkpoint and torch.Size([2, 256]) in the model instantiated\n",
      "- class_labels_classifier.bias: found shape torch.Size([92]) in the checkpoint and torch.Size([2]) in the model instantiated\n",
      "You should probably TRAIN this model on a down-stream task to be able to use it for predictions and inference.\n"
     ]
    }
   ],
   "source": [
    "best_model = LightningDetector.load_from_checkpoint(best_model_path, lr=0.01)"
   ]
  },
  {
   "cell_type": "code",
   "execution_count": 125,
   "id": "7c38ac11-a7a8-4acd-be56-08e26fbf9cd1",
   "metadata": {},
   "outputs": [],
   "source": [
    "test_dl_b1 = test_data.get_dataloader(best_model.processor, bs=1, shuffle=False)\n",
    "train_dl_b1 = train_data.get_dataloader(best_model.processor, bs=1, shuffle=False)"
   ]
  },
  {
   "cell_type": "code",
   "execution_count": 126,
   "id": "e905dc1d-1b54-4abd-9f4f-102ba007e068",
   "metadata": {},
   "outputs": [
    {
     "name": "stderr",
     "output_type": "stream",
     "text": [
      "LOCAL_RANK: 0 - CUDA_VISIBLE_DEVICES: [0]\n",
      "/home/iz/.cache/pypoetry/virtualenvs/drone-sar-xLdq85T6-py3.10/lib/python3.10/site-packages/lightning/pytorch/trainer/connectors/data_connector.py:441: The 'predict_dataloader' does not have many workers which may be a bottleneck. Consider increasing the value of the `num_workers` argument` to `num_workers=31` in the `DataLoader` to improve performance.\n"
     ]
    },
    {
     "data": {
      "application/vnd.jupyter.widget-view+json": {
       "model_id": "6f63f30ae5404c6f9ff33f37cbed5b46",
       "version_major": 2,
       "version_minor": 0
      },
      "text/plain": [
       "Predicting: |                                                      | 0/? [00:00<?, ?it/s]"
      ]
     },
     "metadata": {},
     "output_type": "display_data"
    }
   ],
   "source": [
    "best_val_outputs = trainer.predict(best_model, test_dl_b1)"
   ]
  },
  {
   "cell_type": "code",
   "execution_count": 128,
   "id": "69a34992-db96-47a9-a4d5-09b574ff5e91",
   "metadata": {},
   "outputs": [
    {
     "name": "stderr",
     "output_type": "stream",
     "text": [
      "LOCAL_RANK: 0 - CUDA_VISIBLE_DEVICES: [0]\n"
     ]
    },
    {
     "data": {
      "application/vnd.jupyter.widget-view+json": {
       "model_id": "3c4c8794d04448c986aed13bb2c4afc1",
       "version_major": 2,
       "version_minor": 0
      },
      "text/plain": [
       "Predicting: |                                                      | 0/? [00:00<?, ?it/s]"
      ]
     },
     "metadata": {},
     "output_type": "display_data"
    }
   ],
   "source": [
    "best_train_outputs = trainer.predict(best_model, train_dl_b1)"
   ]
  },
  {
   "cell_type": "code",
   "execution_count": 129,
   "id": "55a1d1f7-6cd0-4c00-a219-c84ffd81f4c3",
   "metadata": {},
   "outputs": [],
   "source": [
    "# outputs = best_train_outputs\n",
    "# target_ds = train_data\n",
    "\n",
    "outputs = best_val_outputs\n",
    "target_ds = test_data"
   ]
  },
  {
   "cell_type": "code",
   "execution_count": 130,
   "id": "cf6cbf53-f0df-4ccd-9dcf-b99281c4be8f",
   "metadata": {},
   "outputs": [],
   "source": [
    "import numpy as np"
   ]
  },
  {
   "cell_type": "code",
   "execution_count": 131,
   "id": "2add1dc7-afa1-4a4b-a037-76424b4626cc",
   "metadata": {},
   "outputs": [],
   "source": [
    "loss_sort_index = np.argsort([o[\"loss\"] for o in outputs])\n",
    "sorted_outputs = np.array(outputs)[loss_sort_index]\n",
    "sorted_ds = np.array(list(target_ds))[loss_sort_index]"
   ]
  },
  {
   "cell_type": "code",
   "execution_count": 163,
   "id": "1b716cf4-e3e1-4dd5-b1ef-e74c2fa32eba",
   "metadata": {},
   "outputs": [],
   "source": [
    "id = 90\n",
    "target_output = sorted_outputs[id]\n",
    "target_item = sorted_ds[id]\n",
    "post_procesed_out = best_model.processor.post_process_object_detection(\n",
    "    target_output,\n",
    "    threshold=0.5,\n",
    "    target_sizes=[target_item[\"target_sizes\"][::-1]]\n",
    ")[0]\n",
    "\n",
    "X0, Y0, X1, Y1 = post_procesed_out[\"boxes\"].T\n",
    "W, H = X1 - X0, Y1 - Y0 \n",
    "post_procesed_out[\"boxes\"][:, 2] = W + 40\n",
    "post_procesed_out[\"boxes\"][:, 3] = H + 40"
   ]
  },
  {
   "cell_type": "code",
   "execution_count": null,
   "id": "1bd8a676-c81a-4eb3-8712-2d9e23c723fb",
   "metadata": {},
   "outputs": [],
   "source": [
    "from drone_sar.vis import plt_show\n",
    "\n",
    "plt_show(\n",
    "    target_item[\"pil\"],\n",
    "    im_opacity=0.6,\n",
    "    colored_boxes_dict={\"red\": target_item[\"boxes\"], \"blue\": post_procesed_out[\"boxes\"]}\n",
    ")"
   ]
  },
  {
   "cell_type": "code",
   "execution_count": null,
   "id": "ba1ad5cc-f948-455d-8617-ff8058fefffe",
   "metadata": {},
   "outputs": [],
   "source": []
  },
  {
   "cell_type": "code",
   "execution_count": null,
   "id": "42a7a5f9-f518-4adf-97a4-cba9cdc6c1a4",
   "metadata": {},
   "outputs": [],
   "source": []
  },
  {
   "cell_type": "code",
   "execution_count": null,
   "id": "726de2fa-c232-410d-a78e-09fa4e493509",
   "metadata": {},
   "outputs": [],
   "source": []
  }
 ],
 "metadata": {
  "kernelspec": {
   "display_name": "Python 3 (ipykernel)",
   "language": "python",
   "name": "python3"
  },
  "language_info": {
   "codemirror_mode": {
    "name": "ipython",
    "version": 3
   },
   "file_extension": ".py",
   "mimetype": "text/x-python",
   "name": "python",
   "nbconvert_exporter": "python",
   "pygments_lexer": "ipython3",
   "version": "3.10.12"
  }
 },
 "nbformat": 4,
 "nbformat_minor": 5
}
